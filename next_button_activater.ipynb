{
 "cells": [
  {
   "cell_type": "code",
   "execution_count": null,
   "id": "9c9de477",
   "metadata": {},
   "outputs": [],
   "source": []
  },
  {
   "cell_type": "code",
   "execution_count": 20,
   "id": "e1659eeb",
   "metadata": {},
   "outputs": [
    {
     "name": "stderr",
     "output_type": "stream",
     "text": [
      "C:\\Users\\kanan\\AppData\\Local\\Temp\\ipykernel_12916\\2063937848.py:13: DeprecationWarning: executable_path has been deprecated, please pass in a Service object\n",
      "  driver = webdriver.Chrome(path)\n"
     ]
    },
    {
     "name": "stdout",
     "output_type": "stream",
     "text": [
      "There are no pop ups on webpage 1\n",
      "https://www.glassdoor.com/Job/us-electrical-engineer-jobs-SRCH_IL.0,2_IN1_KO3,22.htm\n",
      "Next button clicked\n",
      "Pop up closed\n",
      "https://www.glassdoor.com/Job/united-states-electrical-engineer-jobs-SRCH_IL.0,13_IN1_KO14,33_IP2.htm?includeNoSalaryJobs=true&pgc=AB4AAYEAHgAAAAAAAAAAAAAAAdjh61oAQAEBAQsF0plwxuf%2FZ96%2BARcrp1NkuHE1H2M6gl3IpWaT0O0RLOo%2FdWgcujIGJ8cF3MD11xPuN9voNrg%2BLTrT8eMAAA%3D%3D\n",
      "Next button clicked\n",
      "There are no pop ups on webpage 3\n",
      "https://www.glassdoor.com/Job/united-states-electrical-engineer-jobs-SRCH_IL.0,13_IN1_KO14,33_IP3.htm?includeNoSalaryJobs=true&pgc=AB4AAoEAPAAAAAAAAAAAAAAAAdjh61oAbQECAQsYCWIASybsQvnBHzC7pvWRYHrFoCtj6Li3x%2B3XNE2zze7O5EqWvfE6XWQhSV0%2FgWJS0WttazS444D4Kl0W5zPWVvr1%2BOYGb4niUvhbZh4wM0AV3zCm3aH5Wu7AqKJe4zuhtRHQMznQPXIAAA%3D%3D\n",
      "Next button clicked\n",
      "There are no pop ups on webpage 4\n",
      "https://www.glassdoor.com/Job/united-states-electrical-engineer-jobs-SRCH_IL.0,13_IN1_KO14,33_IP4.htm?includeNoSalaryJobs=true&pgc=AB4AA4EAWgAAAAAAAAAAAAAAAdjh61oAkgECARc8BwfIpmNQbbhGIqsSJfpnXARw4ljOSUd59VTBEfbwVcZs7wchK4bygcnK4oSAnCJIvLDY82tDu4VNlYwJll4SzRRlIDWBPAHFe8hIgsvfOYuABEy3h3PKwJ7dBx9MsfXrSfT3XFa9JODh%2B8Y6PLMpg2UdCpGPNhHrnTGbd6EgyJbdH2cE3bMi2DgE6zMYAAA%3D\n",
      "Next button clicked\n",
      "There are no pop ups on webpage 5\n",
      "https://www.glassdoor.com/Job/united-states-electrical-engineer-jobs-SRCH_IL.0,13_IN1_KO14,33_IP5.htm?includeNoSalaryJobs=true&pgc=AB4ABIEAeAAAAAAAAAAAAAAAAdjh61oArwEDARc8By4GCLwmh6BIL7TDmeeA%2BTyAWGm8OrUL2njr49Fc6gunZllrLVxp%2FB4DdbY3zm%2F%2FeQ0PCsU7H965SMKEkK9%2FoiHsKucuSyKDVryPvMc%2BOjmV2s9CzSOsbuhwXSxgFtTGhpgLHR3n1DlVUgo4QZhzWVmcOJdY2BNTRQRebS4Z%2F6dSamSvNQA6IwLeKTI4ZdXFr2fwnLwmFmrUuE4MbNNEUWLZiOLLH0U7qGYAAA%3D%3D\n",
      "Next button clicked\n",
      "There are no pop ups on webpage 6\n",
      "https://www.glassdoor.com/Job/united-states-electrical-engineer-jobs-SRCH_IL.0,13_IN1_KO14,33_IP6.htm?includeNoSalaryJobs=true&pgc=AB4ABYEAlgAAAAAAAAAAAAAAAdjh61oAyQEDARc8CS4GB1Do0zfiq8owFqTh6qb9%2BSTyic8XKgYdSaAdr607ZXRwZlFyaJHW%2FreEqPuRGBFaiLNau913FXkGjGAe1rAP8iRXXm8RP83Xcbo3Y45ayiCJUQ1NJc83WW73E8%2FLYncnAMmba1Z6USt4V4Lc9%2FTpQO11FdJkDi5EQOv4fu4Aomo9iA5WDXiJf9b0txUj7Vs%2BpnKhTecvnYdJxXFhBgzRz7%2FHp4%2BnU6y4OMqG6LVaTFUDA%2Bc2dZT64Z2cMeHQyG1hfgAA\n",
      "Next button clicked\n",
      "There are no pop ups on webpage 7\n",
      "https://www.glassdoor.com/Job/united-states-electrical-engineer-jobs-SRCH_IL.0,13_IN1_KO14,33_IP7.htm?includeNoSalaryJobs=true\n",
      "Next button clicked\n",
      "There are no pop ups on webpage 8\n",
      "https://www.glassdoor.com/Job/united-states-electrical-engineer-jobs-SRCH_IL.0,13_IN1_KO14,33_IP8.htm?includeNoSalaryJobs=true\n",
      "Next button clicked\n",
      "There are no pop ups on webpage 9\n",
      "https://www.glassdoor.com/Job/united-states-electrical-engineer-jobs-SRCH_IL.0,13_IN1_KO14,33_IP9.htm?includeNoSalaryJobs=true\n",
      "Next button clicked\n",
      "There are no pop ups on webpage 10\n",
      "https://www.glassdoor.com/Job/united-states-electrical-engineer-jobs-SRCH_IL.0,13_IN1_KO14,33_IP10.htm?includeNoSalaryJobs=true\n",
      "Next button clicked\n",
      "There are no pop ups on webpage 11\n",
      "https://www.glassdoor.com/Job/united-states-electrical-engineer-jobs-SRCH_IL.0,13_IN1_KO14,33_IP11.htm?includeNoSalaryJobs=true\n",
      "Next button clicked\n",
      "There are no pop ups on webpage 12\n",
      "https://www.glassdoor.com/Job/united-states-electrical-engineer-jobs-SRCH_IL.0,13_IN1_KO14,33_IP12.htm?includeNoSalaryJobs=true\n",
      "Next button clicked\n",
      "There are no pop ups on webpage 13\n",
      "https://www.glassdoor.com/Job/united-states-electrical-engineer-jobs-SRCH_IL.0,13_IN1_KO14,33_IP13.htm?includeNoSalaryJobs=true\n",
      "Next button clicked\n",
      "There are no pop ups on webpage 14\n",
      "https://www.glassdoor.com/Job/united-states-electrical-engineer-jobs-SRCH_IL.0,13_IN1_KO14,33_IP14.htm?includeNoSalaryJobs=true\n",
      "Next button clicked\n",
      "There are no pop ups on webpage 15\n",
      "https://www.glassdoor.com/Job/united-states-electrical-engineer-jobs-SRCH_IL.0,13_IN1_KO14,33_IP15.htm?includeNoSalaryJobs=true\n",
      "Next button clicked\n",
      "There are no pop ups on webpage 16\n",
      "https://www.glassdoor.com/Job/united-states-electrical-engineer-jobs-SRCH_IL.0,13_IN1_KO14,33_IP16.htm?includeNoSalaryJobs=true\n",
      "Next button clicked\n",
      "There are no pop ups on webpage 17\n",
      "https://www.glassdoor.com/Job/united-states-electrical-engineer-jobs-SRCH_IL.0,13_IN1_KO14,33_IP17.htm?includeNoSalaryJobs=true\n",
      "Next button clicked\n",
      "There are no pop ups on webpage 18\n",
      "https://www.glassdoor.com/Job/united-states-electrical-engineer-jobs-SRCH_IL.0,13_IN1_KO14,33_IP18.htm?includeNoSalaryJobs=true\n",
      "Next button clicked\n",
      "There are no pop ups on webpage 19\n",
      "https://www.glassdoor.com/Job/united-states-electrical-engineer-jobs-SRCH_IL.0,13_IN1_KO14,33_IP19.htm?includeNoSalaryJobs=true\n",
      "Next button clicked\n",
      "There are no pop ups on webpage 20\n",
      "https://www.glassdoor.com/Job/united-states-electrical-engineer-jobs-SRCH_IL.0,13_IN1_KO14,33_IP20.htm?includeNoSalaryJobs=true\n",
      "Next button clicked\n",
      "There are no pop ups on webpage 21\n"
     ]
    },
    {
     "ename": "NoSuchWindowException",
     "evalue": "Message: no such window: target window already closed\nfrom unknown error: web view not found\n  (Session info: chrome=102.0.5005.115)\nStacktrace:\nBacktrace:\n\tOrdinal0 [0x0052D953+2414931]\n\tOrdinal0 [0x004BF5E1+1963489]\n\tOrdinal0 [0x003AC6B8+837304]\n\tOrdinal0 [0x00394120+737568]\n\tOrdinal0 [0x003F6E29+1142313]\n\tOrdinal0 [0x00403FB2+1195954]\n\tOrdinal0 [0x003F42B6+1131190]\n\tOrdinal0 [0x003CE860+976992]\n\tOrdinal0 [0x003CF756+980822]\n\tGetHandleVerifier [0x0079CC62+2510274]\n\tGetHandleVerifier [0x0078F760+2455744]\n\tGetHandleVerifier [0x005BEABA+551962]\n\tGetHandleVerifier [0x005BD916+547446]\n\tOrdinal0 [0x004C5F3B+1990459]\n\tOrdinal0 [0x004CA898+2009240]\n\tOrdinal0 [0x004CA985+2009477]\n\tOrdinal0 [0x004D3AD1+2046673]\n\tBaseThreadInitThunk [0x7552FA29+25]\n\tRtlGetAppContainerNamedObjectPath [0x771D7A7E+286]\n\tRtlGetAppContainerNamedObjectPath [0x771D7A4E+238]\n",
     "output_type": "error",
     "traceback": [
      "\u001b[1;31m---------------------------------------------------------------------------\u001b[0m",
      "\u001b[1;31mNoSuchWindowException\u001b[0m                     Traceback (most recent call last)",
      "Input \u001b[1;32mIn [20]\u001b[0m, in \u001b[0;36m<cell line: 21>\u001b[1;34m()\u001b[0m\n\u001b[0;32m     28\u001b[0m     \u001b[38;5;28mprint\u001b[39m(\u001b[38;5;124m\"\u001b[39m\u001b[38;5;124mThere are no pop ups on webpage \u001b[39m\u001b[38;5;132;01m{}\u001b[39;00m\u001b[38;5;124m\"\u001b[39m\u001b[38;5;241m.\u001b[39mformat(current_page))\n\u001b[0;32m     29\u001b[0m \u001b[38;5;28;01mfinally\u001b[39;00m:\n\u001b[1;32m---> 30\u001b[0m     webpage_url \u001b[38;5;241m=\u001b[39m \u001b[43mdriver\u001b[49m\u001b[38;5;241;43m.\u001b[39;49m\u001b[43mcurrent_url\u001b[49m\n\u001b[0;32m     31\u001b[0m     \u001b[38;5;28mprint\u001b[39m(webpage_url)\n\u001b[0;32m     32\u001b[0m     next_button \u001b[38;5;241m=\u001b[39m driver\u001b[38;5;241m.\u001b[39mfind_element(By\u001b[38;5;241m.\u001b[39mXPATH, \u001b[38;5;124m'\u001b[39m\u001b[38;5;124m//button [@class = \u001b[39m\u001b[38;5;124m\"\u001b[39m\u001b[38;5;124mnextButton css-1hq9k8 e13qs2071\u001b[39m\u001b[38;5;124m\"\u001b[39m\u001b[38;5;124m]\u001b[39m\u001b[38;5;124m'\u001b[39m)\n",
      "File \u001b[1;32m~\\AppData\\Roaming\\Python\\Python38\\site-packages\\selenium\\webdriver\\remote\\webdriver.py:920\u001b[0m, in \u001b[0;36mWebDriver.current_url\u001b[1;34m(self)\u001b[0m\n\u001b[0;32m    910\u001b[0m \u001b[38;5;129m@property\u001b[39m\n\u001b[0;32m    911\u001b[0m \u001b[38;5;28;01mdef\u001b[39;00m \u001b[38;5;21mcurrent_url\u001b[39m(\u001b[38;5;28mself\u001b[39m) \u001b[38;5;241m-\u001b[39m\u001b[38;5;241m>\u001b[39m \u001b[38;5;28mstr\u001b[39m:\n\u001b[0;32m    912\u001b[0m     \u001b[38;5;124;03m\"\"\"\u001b[39;00m\n\u001b[0;32m    913\u001b[0m \u001b[38;5;124;03m    Gets the URL of the current page.\u001b[39;00m\n\u001b[0;32m    914\u001b[0m \n\u001b[1;32m   (...)\u001b[0m\n\u001b[0;32m    918\u001b[0m \u001b[38;5;124;03m            driver.current_url\u001b[39;00m\n\u001b[0;32m    919\u001b[0m \u001b[38;5;124;03m    \"\"\"\u001b[39;00m\n\u001b[1;32m--> 920\u001b[0m     \u001b[38;5;28;01mreturn\u001b[39;00m \u001b[38;5;28;43mself\u001b[39;49m\u001b[38;5;241;43m.\u001b[39;49m\u001b[43mexecute\u001b[49m\u001b[43m(\u001b[49m\u001b[43mCommand\u001b[49m\u001b[38;5;241;43m.\u001b[39;49m\u001b[43mGET_CURRENT_URL\u001b[49m\u001b[43m)\u001b[49m[\u001b[38;5;124m'\u001b[39m\u001b[38;5;124mvalue\u001b[39m\u001b[38;5;124m'\u001b[39m]\n",
      "File \u001b[1;32m~\\AppData\\Roaming\\Python\\Python38\\site-packages\\selenium\\webdriver\\remote\\webdriver.py:430\u001b[0m, in \u001b[0;36mWebDriver.execute\u001b[1;34m(self, driver_command, params)\u001b[0m\n\u001b[0;32m    428\u001b[0m response \u001b[38;5;241m=\u001b[39m \u001b[38;5;28mself\u001b[39m\u001b[38;5;241m.\u001b[39mcommand_executor\u001b[38;5;241m.\u001b[39mexecute(driver_command, params)\n\u001b[0;32m    429\u001b[0m \u001b[38;5;28;01mif\u001b[39;00m response:\n\u001b[1;32m--> 430\u001b[0m     \u001b[38;5;28;43mself\u001b[39;49m\u001b[38;5;241;43m.\u001b[39;49m\u001b[43merror_handler\u001b[49m\u001b[38;5;241;43m.\u001b[39;49m\u001b[43mcheck_response\u001b[49m\u001b[43m(\u001b[49m\u001b[43mresponse\u001b[49m\u001b[43m)\u001b[49m\n\u001b[0;32m    431\u001b[0m     response[\u001b[38;5;124m'\u001b[39m\u001b[38;5;124mvalue\u001b[39m\u001b[38;5;124m'\u001b[39m] \u001b[38;5;241m=\u001b[39m \u001b[38;5;28mself\u001b[39m\u001b[38;5;241m.\u001b[39m_unwrap_value(\n\u001b[0;32m    432\u001b[0m         response\u001b[38;5;241m.\u001b[39mget(\u001b[38;5;124m'\u001b[39m\u001b[38;5;124mvalue\u001b[39m\u001b[38;5;124m'\u001b[39m, \u001b[38;5;28;01mNone\u001b[39;00m))\n\u001b[0;32m    433\u001b[0m     \u001b[38;5;28;01mreturn\u001b[39;00m response\n",
      "File \u001b[1;32m~\\AppData\\Roaming\\Python\\Python38\\site-packages\\selenium\\webdriver\\remote\\errorhandler.py:247\u001b[0m, in \u001b[0;36mErrorHandler.check_response\u001b[1;34m(self, response)\u001b[0m\n\u001b[0;32m    245\u001b[0m         alert_text \u001b[38;5;241m=\u001b[39m value[\u001b[38;5;124m'\u001b[39m\u001b[38;5;124malert\u001b[39m\u001b[38;5;124m'\u001b[39m]\u001b[38;5;241m.\u001b[39mget(\u001b[38;5;124m'\u001b[39m\u001b[38;5;124mtext\u001b[39m\u001b[38;5;124m'\u001b[39m)\n\u001b[0;32m    246\u001b[0m     \u001b[38;5;28;01mraise\u001b[39;00m exception_class(message, screen, stacktrace, alert_text)  \u001b[38;5;66;03m# type: ignore[call-arg]  # mypy is not smart enough here\u001b[39;00m\n\u001b[1;32m--> 247\u001b[0m \u001b[38;5;28;01mraise\u001b[39;00m exception_class(message, screen, stacktrace)\n",
      "\u001b[1;31mNoSuchWindowException\u001b[0m: Message: no such window: target window already closed\nfrom unknown error: web view not found\n  (Session info: chrome=102.0.5005.115)\nStacktrace:\nBacktrace:\n\tOrdinal0 [0x0052D953+2414931]\n\tOrdinal0 [0x004BF5E1+1963489]\n\tOrdinal0 [0x003AC6B8+837304]\n\tOrdinal0 [0x00394120+737568]\n\tOrdinal0 [0x003F6E29+1142313]\n\tOrdinal0 [0x00403FB2+1195954]\n\tOrdinal0 [0x003F42B6+1131190]\n\tOrdinal0 [0x003CE860+976992]\n\tOrdinal0 [0x003CF756+980822]\n\tGetHandleVerifier [0x0079CC62+2510274]\n\tGetHandleVerifier [0x0078F760+2455744]\n\tGetHandleVerifier [0x005BEABA+551962]\n\tGetHandleVerifier [0x005BD916+547446]\n\tOrdinal0 [0x004C5F3B+1990459]\n\tOrdinal0 [0x004CA898+2009240]\n\tOrdinal0 [0x004CA985+2009477]\n\tOrdinal0 [0x004D3AD1+2046673]\n\tBaseThreadInitThunk [0x7552FA29+25]\n\tRtlGetAppContainerNamedObjectPath [0x771D7A7E+286]\n\tRtlGetAppContainerNamedObjectPath [0x771D7A4E+238]\n"
     ]
    }
   ],
   "source": [
    "from selenium import webdriver\n",
    "import requests\n",
    "import pandas as pd\n",
    "from bs4 import BeautifulSoup as bs\n",
    "from selenium.webdriver.support.ui import WebDriverWait\n",
    "from selenium.webdriver.common.by import By\n",
    "from selenium.webdriver.support import expected_conditions as EC\n",
    "\n",
    "r = requests.get(\"https://www.glassdoor.com/Job/united-states-electrical-engineer-jobs-SRCH_IL.0,13_IN1_KO14,33.htm?includeNoSalaryJobs=false\")\n",
    "soup = bs(r.content)\n",
    "website = \"https://www.glassdoor.com/Job/us-electrical-engineer-jobs-SRCH_IL.0,2_IN1_KO3,22.htm\"\n",
    "path = \"D:\\Downloads\\chromedriver\\chromedriver.exe\"\n",
    "driver = webdriver.Chrome(path)\n",
    "driver.get(website)\n",
    "\n",
    "page_info = soup.find_all(\"div\", {\"class\":\"paginationFooter\"})[0].string.split()\n",
    "current_page = int(page_info[1])\n",
    "number_of_pages = int(page_info[3])\n",
    "\n",
    "\n",
    "while current_page <= number_of_pages:\n",
    "    try:\n",
    "        pop_up_x_button = driver.find_element(By.XPATH, '//span [@alt = \"Close\"]')\n",
    "        pop_up_x_button.click()\n",
    "        print(\"Pop up closed\")\n",
    "        driver.implicitly_wait(5)\n",
    "    except:\n",
    "        print(\"There are no pop ups on webpage {}\".format(current_page))\n",
    "    finally:\n",
    "        webpage_url = driver.current_url\n",
    "        print(\"Webpage url is: {}\".format(webpage_url))\n",
    "        next_button = driver.find_element(By.XPATH, '//button [@class = \"nextButton css-1hq9k8 e13qs2071\"]')\n",
    "        next_button.click()\n",
    "        print(\"Next button clicked\")\n",
    "        driver.implicitly_wait(5)\n",
    "    current_page += 1\n",
    "    "
   ]
  },
  {
   "cell_type": "code",
   "execution_count": null,
   "id": "51abb92b",
   "metadata": {},
   "outputs": [],
   "source": []
  }
 ],
 "metadata": {
  "kernelspec": {
   "display_name": "Python 3 (ipykernel)",
   "language": "python",
   "name": "python3"
  },
  "language_info": {
   "codemirror_mode": {
    "name": "ipython",
    "version": 3
   },
   "file_extension": ".py",
   "mimetype": "text/x-python",
   "name": "python",
   "nbconvert_exporter": "python",
   "pygments_lexer": "ipython3",
   "version": "3.8.0"
  }
 },
 "nbformat": 4,
 "nbformat_minor": 5
}
